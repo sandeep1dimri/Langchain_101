{
 "cells": [
  {
   "cell_type": "code",
   "execution_count": 1,
   "metadata": {},
   "outputs": [
    {
     "data": {
      "text/plain": [
       "True"
      ]
     },
     "execution_count": 1,
     "metadata": {},
     "output_type": "execute_result"
    }
   ],
   "source": [
    "#loan env file\n",
    "import dotenv\n",
    "dotenv.load_dotenv()"
   ]
  },
  {
   "cell_type": "code",
   "execution_count": 2,
   "metadata": {},
   "outputs": [],
   "source": [
    "from langchain.prompts import FewShotPromptTemplate, PromptTemplate\n",
    "from langchain.chat_models import ChatOpenAI\n",
    "from langchain.pydantic_v1 import BaseModel\n",
    "from langchain_experimental.tabular_synthetic_data.base import SyntheticDataGenerator\n",
    "from langchain_experimental.tabular_synthetic_data.openai import (\n",
    "    create_openai_data_generator,\n",
    "    OPENAI_TEMPLATE,\n",
    ")\n",
    "from langchain_experimental.tabular_synthetic_data.prompts import (\n",
    "    SYNTHETIC_FEW_SHOT_SUFFIX,\n",
    "    SYNTHETIC_FEW_SHOT_PREFIX,\n",
    ")"
   ]
  },
  {
   "cell_type": "code",
   "execution_count": 8,
   "metadata": {},
   "outputs": [],
   "source": [
    "#data model\n",
    "class NewInsurance(BaseModel):\n",
    "    first_name:str\n",
    "    last_name:str\n",
    "    date_of_birth:str\n",
    "    policy_value:int\n",
    "    address: str\n",
    "    country:str\n",
    "    province_state:str\n",
    "\n",
    "examples = [\n",
    "    {\n",
    "        \"example\": \"\"\"First Name: John, Last Name: Doe, Date of Birth: 1980-01-05, \n",
    "        Policy Value: 70000, Address: Toronto M2J 0C3, Country:CA, Province/State:ON \"\"\"\n",
    "    },\n",
    "    {\n",
    "        \"example\": \"\"\"First Name: San, Last Name: Rob, Date of Birth: 1965-11-05, \n",
    "        Policy Value: 80000, Address: 463 Pitt St K6J 3R2, Country:CA, Province/State:ON \"\"\"\n",
    "    },\n",
    "    {\n",
    "        \"example\": \"\"\"First Name: Emily, Last Name: Stone, Date of Birth: 1980-01-05, \n",
    "        Policy Value: 90000, Address: 1326 Richford Road J0J 1C0, Country:CA, Province/State:QC \"\"\"\n",
    "    },\n",
    "]\n",
    "\n"
   ]
  },
  {
   "cell_type": "code",
   "execution_count": 4,
   "metadata": {},
   "outputs": [],
   "source": [
    "OPENAI_TEMPLATE = PromptTemplate(input_variables=[\"example\"], template=\"{example}\")\n",
    "\n",
    "prompt_template = FewShotPromptTemplate(\n",
    "    prefix=SYNTHETIC_FEW_SHOT_PREFIX,\n",
    "    examples=examples,\n",
    "    suffix=SYNTHETIC_FEW_SHOT_SUFFIX,\n",
    "    input_variables=[\"subject\", \"extra\"],\n",
    "    example_prompt=OPENAI_TEMPLATE,\n",
    ")"
   ]
  },
  {
   "cell_type": "code",
   "execution_count": 9,
   "metadata": {},
   "outputs": [],
   "source": [
    "synthetic_data_generator = create_openai_data_generator(\n",
    "    output_schema=NewInsurance,\n",
    "    llm=ChatOpenAI(\n",
    "        temperature=1\n",
    "    ), \n",
    "    prompt=prompt_template,\n",
    ")"
   ]
  },
  {
   "cell_type": "code",
   "execution_count": 10,
   "metadata": {},
   "outputs": [],
   "source": [
    "synthetic_results = synthetic_data_generator.generate(\n",
    "    subject=\"New Insurance Policies\",\n",
    "    extra=\"\"\"the name must be chosen at random. Make it something you wouldn't normally choose. Policy value can be any value between 70000 to 120000 \\\n",
    "    Province/State can be ON,BC or QC\n",
    "    \"\"\",\n",
    "    runs=2,\n",
    ")"
   ]
  },
  {
   "cell_type": "code",
   "execution_count": 11,
   "metadata": {},
   "outputs": [
    {
     "data": {
      "text/plain": [
       "[NewInsurance(first_name='Liam', last_name='Johnson', date_of_birth='1990-10-07', policy_value=95000, address='789 Cedar St', country='CA', province_state='ON'),\n",
       " NewInsurance(first_name='Sarah', last_name='Smith', date_of_birth='1991-09-12', policy_value=88000, address='987 Maple St', country='CA', province_state='BC')]"
      ]
     },
     "execution_count": 11,
     "metadata": {},
     "output_type": "execute_result"
    }
   ],
   "source": [
    "synthetic_results"
   ]
  },
  {
   "cell_type": "code",
   "execution_count": 12,
   "metadata": {},
   "outputs": [
    {
     "name": "stdout",
     "output_type": "stream",
     "text": [
      "Tokens Used: 768\n",
      "\tPrompt Tokens: 624\n",
      "\tCompletion Tokens: 144\n",
      "Successful Requests: 2\n",
      "Total Cost (USD): $0.001224\n"
     ]
    }
   ],
   "source": [
    "from langchain.callbacks import get_openai_callback\n",
    "costs=None\n",
    "with get_openai_callback() as cb:\n",
    "    #result = llm.invoke(\"Tell me a joke\")\n",
    "    synthetic_results = synthetic_data_generator.generate(\n",
    "    subject=\"New Insurance Policies\",\n",
    "    extra=\"\"\"the name must be chosen at random. Make it something you wouldn't normally choose. Policy value can be any value between 70000 to 120000 \\\n",
    "    Province/State can be ON,BC or QC\n",
    "    \"\"\",\n",
    "    runs=2,\n",
    "    )\n",
    "    print(cb)\n",
    "    costs=cb"
   ]
  },
  {
   "cell_type": "code",
   "execution_count": 13,
   "metadata": {},
   "outputs": [
    {
     "data": {
      "text/plain": [
       "[NewInsurance(first_name='Liam', last_name='Johnson', date_of_birth='1990-10-07', policy_value=95000, address='789 Cedar St', country='CA', province_state='ON'),\n",
       " NewInsurance(first_name='Sarah', last_name='Smith', date_of_birth='1991-09-12', policy_value=88000, address='987 Maple St', country='CA', province_state='BC'),\n",
       " NewInsurance(first_name='Samantha', last_name='Jones', date_of_birth='1985-12-05', policy_value=92000, address='123 Oak St', country='CA', province_state='ON'),\n",
       " NewInsurance(first_name='Emma', last_name='Wilson', date_of_birth='1988-06-23', policy_value=105000, address='456 Pine St', country='CA', province_state='BC')]"
      ]
     },
     "execution_count": 13,
     "metadata": {},
     "output_type": "execute_result"
    }
   ],
   "source": [
    "synthetic_results"
   ]
  }
 ],
 "metadata": {
  "kernelspec": {
   "display_name": "venv",
   "language": "python",
   "name": "python3"
  },
  "language_info": {
   "codemirror_mode": {
    "name": "ipython",
    "version": 3
   },
   "file_extension": ".py",
   "mimetype": "text/x-python",
   "name": "python",
   "nbconvert_exporter": "python",
   "pygments_lexer": "ipython3",
   "version": "3.11.3"
  }
 },
 "nbformat": 4,
 "nbformat_minor": 2
}
